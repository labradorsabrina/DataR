{
 "cells": [
  {
   "cell_type": "code",
   "execution_count": 4,
   "id": "virtual-sample",
   "metadata": {},
   "outputs": [],
   "source": [
    "library(datasets)\n",
    "data(iris)"
   ]
  },
  {
   "cell_type": "code",
   "execution_count": 7,
   "id": "coordinated-module",
   "metadata": {},
   "outputs": [
    {
     "ename": "ERROR",
     "evalue": "Error in View(iris): ‘View()’ not yet supported in the Jupyter R kernel\n",
     "output_type": "error",
     "traceback": [
      "Error in View(iris): ‘View()’ not yet supported in the Jupyter R kernel\nTraceback:\n",
      "1. View(iris)",
      "2. stop(sQuote(\"View()\"), \" not yet supported in the Jupyter R kernel\")"
     ]
    }
   ],
   "source": [
    "View(iris)"
   ]
  },
  {
   "cell_type": "code",
   "execution_count": 9,
   "id": "embedded-conversion",
   "metadata": {},
   "outputs": [
    {
     "name": "stderr",
     "output_type": "stream",
     "text": [
      "Installing package into ‘/srv/rlibs’\n",
      "(as ‘lib’ is unspecified)\n",
      "\n",
      "also installing the dependencies ‘pillar’, ‘isoband’, ‘tibble’, ‘tidyselect’, ‘farver’, ‘ggplot2’, ‘dplyr’, ‘reshape’, ‘scales’\n",
      "\n",
      "\n"
     ]
    }
   ],
   "source": [
    "install.packages(\"GGally\", repos = \"https://cran.r-project.org\", type= \"source\")"
   ]
  },
  {
   "cell_type": "code",
   "execution_count": 18,
   "id": "dutch-soundtrack",
   "metadata": {},
   "outputs": [
    {
     "name": "stderr",
     "output_type": "stream",
     "text": [
      "Installing package into ‘/srv/rlibs’\n",
      "(as ‘lib’ is unspecified)\n",
      "\n"
     ]
    }
   ],
   "source": [
    "install.packages(\"ggplot2\", repos = \"https://cran.r-project.org\", type= \"source\")"
   ]
  },
  {
   "cell_type": "code",
   "execution_count": 17,
   "id": "irish-refund",
   "metadata": {},
   "outputs": [
    {
     "ename": "ERROR",
     "evalue": "Error: package or namespace load failed for ‘ggplot2’ in loadNamespace(j <- i[[1L]], c(lib.loc, .libPaths()), versionCheck = vI[[j]]):\n namespace ‘pillar’ 1.5.1 is already loaded, but >= 1.6.0 is required\n",
     "output_type": "error",
     "traceback": [
      "Error: package or namespace load failed for ‘ggplot2’ in loadNamespace(j <- i[[1L]], c(lib.loc, .libPaths()), versionCheck = vI[[j]]):\n namespace ‘pillar’ 1.5.1 is already loaded, but >= 1.6.0 is required\nTraceback:\n",
      "1. library(ggplot2)",
      "2. tryCatch({\n .     attr(package, \"LibPath\") <- which.lib.loc\n .     ns <- loadNamespace(package, lib.loc)\n .     env <- attachNamespace(ns, pos = pos, deps, exclude, include.only)\n . }, error = function(e) {\n .     P <- if (!is.null(cc <- conditionCall(e))) \n .         paste(\" in\", deparse(cc)[1L])\n .     else \"\"\n .     msg <- gettextf(\"package or namespace load failed for %s%s:\\n %s\", \n .         sQuote(package), P, conditionMessage(e))\n .     if (logical.return) \n .         message(paste(\"Error:\", msg), domain = NA)\n .     else stop(msg, call. = FALSE, domain = NA)\n . })",
      "3. tryCatchList(expr, classes, parentenv, handlers)",
      "4. tryCatchOne(expr, names, parentenv, handlers[[1L]])",
      "5. value[[3L]](cond)",
      "6. stop(msg, call. = FALSE, domain = NA)"
     ]
    }
   ],
   "source": [
    "library(ggplot2)"
   ]
  },
  {
   "cell_type": "code",
   "execution_count": 16,
   "id": "numerical-honor",
   "metadata": {},
   "outputs": [
    {
     "name": "stderr",
     "output_type": "stream",
     "text": [
      "Loading required package: ggplot2\n",
      "\n",
      "Error: package or namespace load failed for ‘ggplot2’ in loadNamespace(j <- i[[1L]], c(lib.loc, .libPaths()), versionCheck = vI[[j]]):\n",
      " namespace ‘pillar’ 1.5.1 is already loaded, but >= 1.6.0 is required\n",
      "\n"
     ]
    },
    {
     "ename": "ERROR",
     "evalue": "Error: package ‘ggplot2’ could not be loaded\n",
     "output_type": "error",
     "traceback": [
      "Error: package ‘ggplot2’ could not be loaded\nTraceback:\n",
      "1. library(GGally)",
      "2. .getRequiredPackages2(pkgInfo, quietly = quietly)",
      "3. stop(gettextf(\"package %s could not be loaded\", sQuote(pkg)), \n .     call. = FALSE, domain = NA)"
     ]
    }
   ],
   "source": [
    "library(GGally)"
   ]
  },
  {
   "cell_type": "code",
   "execution_count": null,
   "id": "beneficial-royal",
   "metadata": {},
   "outputs": [],
   "source": [
    "ggpairs(iris, mapping=ggplot2::aes(colour = Species))"
   ]
  },
  {
   "cell_type": "code",
   "execution_count": null,
   "id": "central-valuable",
   "metadata": {},
   "outputs": [],
   "source": []
  },
  {
   "cell_type": "markdown",
   "id": "polished-assessment",
   "metadata": {},
   "source": [
    "# Notes:"
   ]
  },
  {
   "cell_type": "markdown",
   "id": "northern-encyclopedia",
   "metadata": {},
   "source": [
    "This gives us a lot of information for a single line of code. First, we see the data distributions per column and species on the diagonal. Then we see all pair-wise scatter plots on the tiles left to the diagonal, again broken down by color. It is, for example, obvious to see that a line can be drawn to separate setosa against versicolor and virginica. In later courses, we’ll of course teach how the overlapping species can be separated as well. This is called supervised machine learning using non-linear classifiers by the way. Then you see the correlation between individual columns in the tiles right to the diagonal which confirms our thoughts that setose is more different, hence more easy to distinguish, than versicolor and virginica since a correlation value close to one signifies high similarity whereas a value closer to zero signifies less similarity. The remaining plots on the right are called box-plots and the ones at the bottom are called histograms bit we won’t go into detail here and save this for a more advanced course in this series."
   ]
  }
 ],
 "metadata": {
  "kernelspec": {
   "display_name": "R",
   "language": "R",
   "name": "ir"
  },
  "language_info": {
   "codemirror_mode": "r",
   "file_extension": ".r",
   "mimetype": "text/x-r-source",
   "name": "R",
   "pygments_lexer": "r",
   "version": "3.6.3"
  }
 },
 "nbformat": 4,
 "nbformat_minor": 5
}
